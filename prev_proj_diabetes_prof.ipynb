{
 "cells": [
  {
   "cell_type": "code",
   "execution_count": 1,
   "metadata": {},
   "outputs": [
    {
     "data": {
      "text/html": [
       "<div>\n",
       "<style scoped>\n",
       "    .dataframe tbody tr th:only-of-type {\n",
       "        vertical-align: middle;\n",
       "    }\n",
       "\n",
       "    .dataframe tbody tr th {\n",
       "        vertical-align: top;\n",
       "    }\n",
       "\n",
       "    .dataframe thead th {\n",
       "        text-align: right;\n",
       "    }\n",
       "</style>\n",
       "<table border=\"1\" class=\"dataframe\">\n",
       "  <thead>\n",
       "    <tr style=\"text-align: right;\">\n",
       "      <th></th>\n",
       "      <th>Pregnancies</th>\n",
       "      <th>Glucose</th>\n",
       "      <th>BloodPressure</th>\n",
       "      <th>SkinThickness</th>\n",
       "      <th>Insulin</th>\n",
       "      <th>BMI</th>\n",
       "      <th>DiabetesPedigreeFunction</th>\n",
       "      <th>Age</th>\n",
       "      <th>Outcome</th>\n",
       "    </tr>\n",
       "  </thead>\n",
       "  <tbody>\n",
       "    <tr>\n",
       "      <th>0</th>\n",
       "      <td>6</td>\n",
       "      <td>148</td>\n",
       "      <td>72</td>\n",
       "      <td>35</td>\n",
       "      <td>0</td>\n",
       "      <td>33.6</td>\n",
       "      <td>0.627</td>\n",
       "      <td>50</td>\n",
       "      <td>1</td>\n",
       "    </tr>\n",
       "    <tr>\n",
       "      <th>1</th>\n",
       "      <td>1</td>\n",
       "      <td>85</td>\n",
       "      <td>66</td>\n",
       "      <td>29</td>\n",
       "      <td>0</td>\n",
       "      <td>26.6</td>\n",
       "      <td>0.351</td>\n",
       "      <td>31</td>\n",
       "      <td>0</td>\n",
       "    </tr>\n",
       "    <tr>\n",
       "      <th>2</th>\n",
       "      <td>8</td>\n",
       "      <td>183</td>\n",
       "      <td>64</td>\n",
       "      <td>0</td>\n",
       "      <td>0</td>\n",
       "      <td>23.3</td>\n",
       "      <td>0.672</td>\n",
       "      <td>32</td>\n",
       "      <td>1</td>\n",
       "    </tr>\n",
       "    <tr>\n",
       "      <th>3</th>\n",
       "      <td>1</td>\n",
       "      <td>89</td>\n",
       "      <td>66</td>\n",
       "      <td>23</td>\n",
       "      <td>94</td>\n",
       "      <td>28.1</td>\n",
       "      <td>0.167</td>\n",
       "      <td>21</td>\n",
       "      <td>0</td>\n",
       "    </tr>\n",
       "    <tr>\n",
       "      <th>4</th>\n",
       "      <td>0</td>\n",
       "      <td>137</td>\n",
       "      <td>40</td>\n",
       "      <td>35</td>\n",
       "      <td>168</td>\n",
       "      <td>43.1</td>\n",
       "      <td>2.288</td>\n",
       "      <td>33</td>\n",
       "      <td>1</td>\n",
       "    </tr>\n",
       "  </tbody>\n",
       "</table>\n",
       "</div>"
      ],
      "text/plain": [
       "   Pregnancies  Glucose  BloodPressure  SkinThickness  Insulin   BMI  \\\n",
       "0            6      148             72             35        0  33.6   \n",
       "1            1       85             66             29        0  26.6   \n",
       "2            8      183             64              0        0  23.3   \n",
       "3            1       89             66             23       94  28.1   \n",
       "4            0      137             40             35      168  43.1   \n",
       "\n",
       "   DiabetesPedigreeFunction  Age  Outcome  \n",
       "0                     0.627   50        1  \n",
       "1                     0.351   31        0  \n",
       "2                     0.672   32        1  \n",
       "3                     0.167   21        0  \n",
       "4                     2.288   33        1  "
      ]
     },
     "execution_count": 1,
     "metadata": {},
     "output_type": "execute_result"
    }
   ],
   "source": [
    "# Importamos la librerias que pueden ser útiles en el trabajo y las nombramos\n",
    "# Importamos la base de datos que está en formato .csv\n",
    "\n",
    "import pandas as pd\n",
    "import os\n",
    "import numpy as np\n",
    "import matplotlib.pyplot as plt\n",
    "import seaborn as sns\n",
    "from scipy.stats import stats\n",
    "from sklearn.model_selection import train_test_split, cross_val_score, KFold\n",
    "from sklearn.metrics import confusion_matrix\n",
    "from sklearn import tree\n",
    "diabetes= pd.read_csv(filepath_or_buffer=\"D:/Bases_de_datos/input/diabetes.csv\")\n",
    "diabetes.head()"
   ]
  },
  {
   "cell_type": "code",
   "execution_count": 2,
   "metadata": {},
   "outputs": [],
   "source": [
    "diabetes.dropna(inplace=True)"
   ]
  },
  {
   "cell_type": "code",
   "execution_count": 3,
   "metadata": {},
   "outputs": [
    {
     "name": "stdout",
     "output_type": "stream",
     "text": [
      "<class 'pandas.core.frame.DataFrame'>\n",
      "RangeIndex: 768 entries, 0 to 767\n",
      "Data columns (total 9 columns):\n",
      " #   Column                    Non-Null Count  Dtype  \n",
      "---  ------                    --------------  -----  \n",
      " 0   Pregnancies               768 non-null    int64  \n",
      " 1   Glucose                   768 non-null    int64  \n",
      " 2   BloodPressure             768 non-null    int64  \n",
      " 3   SkinThickness             768 non-null    int64  \n",
      " 4   Insulin                   768 non-null    int64  \n",
      " 5   BMI                       768 non-null    float64\n",
      " 6   DiabetesPedigreeFunction  768 non-null    float64\n",
      " 7   Age                       768 non-null    int64  \n",
      " 8   Outcome                   768 non-null    int64  \n",
      "dtypes: float64(2), int64(7)\n",
      "memory usage: 54.1 KB\n"
     ]
    },
    {
     "data": {
      "text/plain": [
       "None"
      ]
     },
     "metadata": {},
     "output_type": "display_data"
    },
    {
     "data": {
      "text/html": [
       "<div>\n",
       "<style scoped>\n",
       "    .dataframe tbody tr th:only-of-type {\n",
       "        vertical-align: middle;\n",
       "    }\n",
       "\n",
       "    .dataframe tbody tr th {\n",
       "        vertical-align: top;\n",
       "    }\n",
       "\n",
       "    .dataframe thead th {\n",
       "        text-align: right;\n",
       "    }\n",
       "</style>\n",
       "<table border=\"1\" class=\"dataframe\">\n",
       "  <thead>\n",
       "    <tr style=\"text-align: right;\">\n",
       "      <th></th>\n",
       "      <th>Pregnancies</th>\n",
       "      <th>Glucose</th>\n",
       "      <th>BloodPressure</th>\n",
       "      <th>SkinThickness</th>\n",
       "      <th>Insulin</th>\n",
       "      <th>BMI</th>\n",
       "      <th>DiabetesPedigreeFunction</th>\n",
       "      <th>Age</th>\n",
       "      <th>Outcome</th>\n",
       "    </tr>\n",
       "  </thead>\n",
       "  <tbody>\n",
       "    <tr>\n",
       "      <th>0</th>\n",
       "      <td>6</td>\n",
       "      <td>148</td>\n",
       "      <td>72</td>\n",
       "      <td>35</td>\n",
       "      <td>0</td>\n",
       "      <td>33.6</td>\n",
       "      <td>0.627</td>\n",
       "      <td>50</td>\n",
       "      <td>1</td>\n",
       "    </tr>\n",
       "    <tr>\n",
       "      <th>1</th>\n",
       "      <td>1</td>\n",
       "      <td>85</td>\n",
       "      <td>66</td>\n",
       "      <td>29</td>\n",
       "      <td>0</td>\n",
       "      <td>26.6</td>\n",
       "      <td>0.351</td>\n",
       "      <td>31</td>\n",
       "      <td>0</td>\n",
       "    </tr>\n",
       "    <tr>\n",
       "      <th>2</th>\n",
       "      <td>8</td>\n",
       "      <td>183</td>\n",
       "      <td>64</td>\n",
       "      <td>0</td>\n",
       "      <td>0</td>\n",
       "      <td>23.3</td>\n",
       "      <td>0.672</td>\n",
       "      <td>32</td>\n",
       "      <td>1</td>\n",
       "    </tr>\n",
       "    <tr>\n",
       "      <th>3</th>\n",
       "      <td>1</td>\n",
       "      <td>89</td>\n",
       "      <td>66</td>\n",
       "      <td>23</td>\n",
       "      <td>94</td>\n",
       "      <td>28.1</td>\n",
       "      <td>0.167</td>\n",
       "      <td>21</td>\n",
       "      <td>0</td>\n",
       "    </tr>\n",
       "    <tr>\n",
       "      <th>4</th>\n",
       "      <td>0</td>\n",
       "      <td>137</td>\n",
       "      <td>40</td>\n",
       "      <td>35</td>\n",
       "      <td>168</td>\n",
       "      <td>43.1</td>\n",
       "      <td>2.288</td>\n",
       "      <td>33</td>\n",
       "      <td>1</td>\n",
       "    </tr>\n",
       "  </tbody>\n",
       "</table>\n",
       "</div>"
      ],
      "text/plain": [
       "   Pregnancies  Glucose  BloodPressure  SkinThickness  Insulin   BMI  \\\n",
       "0            6      148             72             35        0  33.6   \n",
       "1            1       85             66             29        0  26.6   \n",
       "2            8      183             64              0        0  23.3   \n",
       "3            1       89             66             23       94  28.1   \n",
       "4            0      137             40             35      168  43.1   \n",
       "\n",
       "   DiabetesPedigreeFunction  Age  Outcome  \n",
       "0                     0.627   50        1  \n",
       "1                     0.351   31        0  \n",
       "2                     0.672   32        1  \n",
       "3                     0.167   21        0  \n",
       "4                     2.288   33        1  "
      ]
     },
     "metadata": {},
     "output_type": "display_data"
    }
   ],
   "source": [
    "display(diabetes.info(),diabetes.head())"
   ]
  },
  {
   "cell_type": "code",
   "execution_count": 4,
   "metadata": {},
   "outputs": [
    {
     "name": "stdout",
     "output_type": "stream",
     "text": [
      "el valor z es 0.7794228634059996\n",
      "el valor p value es igual a 0.43573066003173366\n",
      "No se rechaza H0\n",
      "los valores redondeados son: para pvalue 0.436 y para z es 0.779\n"
     ]
    }
   ],
   "source": [
    "# la pregunta hipótesis para ver si se acepta o no: valores normales para glucosa se según medicina que es entre 100 a 125 en un estado normal, por lo cual usaremos 120 como valor base y una desviación estandar de 0.3 para encontrar una correlación\n",
    "H0_mean,H0_std=120,0.3\n",
    "# hallamos la media y desviación estándar para la variable de glucosa\n",
    "glucose_mean = round(diabetes.Glucose.mean(),1)\n",
    "glucose_std= round(diabetes.Glucose.std(),1)\n",
    "# hallamos el valor de alpha que es de 0.05 para una significancia del 95%\n",
    "c = 0.95\n",
    "alpha = 1 - c \n",
    "# hallamos el número total de elementos\n",
    "n=len(diabetes.Glucose)\n",
    "# hallamos el error stándar\n",
    "se = glucose_std/np.sqrt(n)\n",
    "# calculamos z test como prueba estadística para nuestra base de datos de +50 datos y calculamos las medias\n",
    "z = (glucose_mean-H0_mean)/se\n",
    "print(\"el valor z es {}\".format(z))\n",
    "# importamos scipy para poder hallar el pvalue\n",
    "import scipy\n",
    "pval= 2 * scipy.stats.norm.sf(abs(z))\n",
    "print (\"el valor p value es igual a {}\".format((pval)))\n",
    "# para contrastar creamos un if muy sencillo que compara si pvalue es menor o no a alpha que lo definimos como 1-c\n",
    "if pval<alpha:\n",
    "    print(\"Se rechaza H0\")\n",
    "else:\n",
    "    print(\"No se rechaza H0\")\n",
    "\n",
    "print(\"los valores redondeados son:\", \"para pvalue\",round(pval,3),\"y para z es\",round(z,3))\n",
    "# para pval<alpha tenemos que se rechaza la hipótesis"
   ]
  },
  {
   "cell_type": "markdown",
   "metadata": {},
   "source": [
    "> Conclusión tenemos que para nuestra hipótesis nula (H0) sí existe una correlación\n",
    "> pvalue igual a 0.436 indica que para para el 43.6% de los casos la H0 se mantendrá siendo **CIERTA** y para el restante 66.4% de los casos será falsa."
   ]
  },
  {
   "cell_type": "code",
   "execution_count": 5,
   "metadata": {},
   "outputs": [
    {
     "data": {
      "text/plain": [
       "sklearn.linear_model._base.LinearRegression"
      ]
     },
     "execution_count": 5,
     "metadata": {},
     "output_type": "execute_result"
    },
    {
     "data": {
      "image/png": "[encoded data removed]",
      "text/plain": [
       "<Figure size 432x288 with 1 Axes>"
      ]
     },
     "metadata": {
      "needs_background": "light"
     },
     "output_type": "display_data"
    }
   ],
   "source": [
    "# establecemos las variables que pueden ser interesantes en el estudio, mencionar que en el eje de las y se pondría la variable\n",
    "# dependiente que se buscaría predecir y en el eje de las x la variable independiente\n",
    "Presion=diabetes.BloodPressure\n",
    "Insulina=diabetes.Insulin\n",
    "Glucosa=diabetes.Glucose\n",
    "Outcome= diabetes.Outcome\n",
    "\n",
    "# sacar el diagrama de dispersión\n",
    "plt.ylabel(\"Insulina en sangre\")\n",
    "plt.xlabel(\"Glucosa en sangre\")\n",
    "plt.scatter(Glucosa,Insulina,color=\"pink\")\n",
    "#importar la librería para el modelo de regresión lineal\n",
    "from sklearn.linear_model import LinearRegression\n",
    "model= LinearRegression()\n",
    "type(model)"
   ]
  },
  {
   "cell_type": "code",
   "execution_count": 6,
   "metadata": {},
   "outputs": [
    {
     "name": "stdout",
     "output_type": "stream",
     "text": [
      "límite superior: 216.81238583540866\n",
      "límite inferior: 24.976676664591338\n"
     ]
    }
   ],
   "source": [
    "# calculando el límite superior e inferior para eliminar outliers\n",
    "upper_limit_glucosa=Glucosa.mean() + 3*Glucosa.std()\n",
    "lower_limit_glucosa=Glucosa.mean() - 3*Glucosa.std()\n",
    "print(\"límite superior:\",upper_limit_glucosa)\n",
    "print(\"límite inferior:\",lower_limit_glucosa)"
   ]
  },
  {
   "cell_type": "code",
   "execution_count": 7,
   "metadata": {},
   "outputs": [
    {
     "data": {
      "text/html": [
       "<div>\n",
       "<style scoped>\n",
       "    .dataframe tbody tr th:only-of-type {\n",
       "        vertical-align: middle;\n",
       "    }\n",
       "\n",
       "    .dataframe tbody tr th {\n",
       "        vertical-align: top;\n",
       "    }\n",
       "\n",
       "    .dataframe thead th {\n",
       "        text-align: right;\n",
       "    }\n",
       "</style>\n",
       "<table border=\"1\" class=\"dataframe\">\n",
       "  <thead>\n",
       "    <tr style=\"text-align: right;\">\n",
       "      <th></th>\n",
       "      <th>Pregnancies</th>\n",
       "      <th>Glucose</th>\n",
       "      <th>BloodPressure</th>\n",
       "      <th>SkinThickness</th>\n",
       "      <th>Insulin</th>\n",
       "      <th>BMI</th>\n",
       "      <th>DiabetesPedigreeFunction</th>\n",
       "      <th>Age</th>\n",
       "      <th>Outcome</th>\n",
       "    </tr>\n",
       "  </thead>\n",
       "  <tbody>\n",
       "    <tr>\n",
       "      <th>75</th>\n",
       "      <td>1</td>\n",
       "      <td>0</td>\n",
       "      <td>48</td>\n",
       "      <td>20</td>\n",
       "      <td>0</td>\n",
       "      <td>24.7</td>\n",
       "      <td>0.140</td>\n",
       "      <td>22</td>\n",
       "      <td>0</td>\n",
       "    </tr>\n",
       "    <tr>\n",
       "      <th>182</th>\n",
       "      <td>1</td>\n",
       "      <td>0</td>\n",
       "      <td>74</td>\n",
       "      <td>20</td>\n",
       "      <td>23</td>\n",
       "      <td>27.7</td>\n",
       "      <td>0.299</td>\n",
       "      <td>21</td>\n",
       "      <td>0</td>\n",
       "    </tr>\n",
       "    <tr>\n",
       "      <th>342</th>\n",
       "      <td>1</td>\n",
       "      <td>0</td>\n",
       "      <td>68</td>\n",
       "      <td>35</td>\n",
       "      <td>0</td>\n",
       "      <td>32.0</td>\n",
       "      <td>0.389</td>\n",
       "      <td>22</td>\n",
       "      <td>0</td>\n",
       "    </tr>\n",
       "    <tr>\n",
       "      <th>349</th>\n",
       "      <td>5</td>\n",
       "      <td>0</td>\n",
       "      <td>80</td>\n",
       "      <td>32</td>\n",
       "      <td>0</td>\n",
       "      <td>41.0</td>\n",
       "      <td>0.346</td>\n",
       "      <td>37</td>\n",
       "      <td>1</td>\n",
       "    </tr>\n",
       "    <tr>\n",
       "      <th>502</th>\n",
       "      <td>6</td>\n",
       "      <td>0</td>\n",
       "      <td>68</td>\n",
       "      <td>41</td>\n",
       "      <td>0</td>\n",
       "      <td>39.0</td>\n",
       "      <td>0.727</td>\n",
       "      <td>41</td>\n",
       "      <td>1</td>\n",
       "    </tr>\n",
       "  </tbody>\n",
       "</table>\n",
       "</div>"
      ],
      "text/plain": [
       "     Pregnancies  Glucose  BloodPressure  SkinThickness  Insulin   BMI  \\\n",
       "75             1        0             48             20        0  24.7   \n",
       "182            1        0             74             20       23  27.7   \n",
       "342            1        0             68             35        0  32.0   \n",
       "349            5        0             80             32        0  41.0   \n",
       "502            6        0             68             41        0  39.0   \n",
       "\n",
       "     DiabetesPedigreeFunction  Age  Outcome  \n",
       "75                      0.140   22        0  \n",
       "182                     0.299   21        0  \n",
       "342                     0.389   22        0  \n",
       "349                     0.346   37        1  \n",
       "502                     0.727   41        1  "
      ]
     },
     "execution_count": 7,
     "metadata": {},
     "output_type": "execute_result"
    }
   ],
   "source": [
    "#encontrando los outliers\n",
    "diabetes.loc[(Glucosa>upper_limit_glucosa)|(Glucosa<lower_limit_glucosa)]"
   ]
  },
  {
   "cell_type": "code",
   "execution_count": 8,
   "metadata": {},
   "outputs": [
    {
     "name": "stdout",
     "output_type": "stream",
     "text": [
      "old data before removing outliners 768\n",
      "new data after removing outliners 763\n",
      "outliers removed 5\n"
     ]
    }
   ],
   "source": [
    "# trimming, eliminando los outliners\n",
    "clean_glucose= diabetes.loc[(Glucosa<upper_limit_glucosa)&(Glucosa>lower_limit_glucosa)]\n",
    "print(\"old data before removing outliners\",len(Glucosa))\n",
    "print(\"new data after removing outliners\",len(clean_glucose))\n",
    "print(\"outliers removed\",len(Glucosa)-len(clean_glucose))"
   ]
  },
  {
   "cell_type": "code",
   "execution_count": 9,
   "metadata": {},
   "outputs": [
    {
     "name": "stdout",
     "output_type": "stream",
     "text": [
      "Intersección en (b) -64.59250372569905\n",
      "Pendiente (m) [1.19436323]\n"
     ]
    },
    {
     "data": {
      "text/plain": [
       "array([-63.3981405 , -35.92778619,  78.73108393, 174.28014237])"
      ]
     },
     "execution_count": 9,
     "metadata": {},
     "output_type": "execute_result"
    }
   ],
   "source": [
    "# haciendo el código para el modelo de regresión lineal\n",
    "from sklearn import linear_model\n",
    "regresion= linear_model.LinearRegression()\n",
    "clean_glucose1=diabetes.Glucose.values.reshape((-1,1))\n",
    "modelo=regresion.fit(clean_glucose1,Insulina)\n",
    "# usando la función intercept_ para hallar la pendiente\n",
    "print(\"Intersección en (b)\",modelo.intercept_)\n",
    "# usando la función coef_ para hallar la pendiente\n",
    "print(\"Pendiente (m)\",modelo.coef_)\n",
    "entrada = [[1],[24],[120],[200]]\n",
    "modelo.predict(entrada)"
   ]
  },
  {
   "cell_type": "code",
   "execution_count": 10,
   "metadata": {},
   "outputs": [
    {
     "data": {
      "image/png": "[encoded data removed]",
      "text/plain": [
       "<Figure size 432x288 with 1 Axes>"
      ]
     },
     "metadata": {
      "needs_background": "light"
     },
     "output_type": "display_data"
    }
   ],
   "source": [
    "plt.ylabel(\"Insulina en sangre\")\n",
    "plt.xlabel(\"Glucosa en sangre\")\n",
    "plt.scatter(Glucosa,Insulina,color=\"pink\")\n",
    "plt.scatter(entrada,modelo.predict(entrada),color=\"red\")\n",
    "plt.plot(entrada,modelo.predict(entrada),color=\"black\")\n",
    "plt.show()"
   ]
  },
  {
   "cell_type": "code",
   "execution_count": 11,
   "metadata": {},
   "outputs": [
    {
     "data": {
      "text/html": [
       "<div>\n",
       "<style scoped>\n",
       "    .dataframe tbody tr th:only-of-type {\n",
       "        vertical-align: middle;\n",
       "    }\n",
       "\n",
       "    .dataframe tbody tr th {\n",
       "        vertical-align: top;\n",
       "    }\n",
       "\n",
       "    .dataframe thead th {\n",
       "        text-align: right;\n",
       "    }\n",
       "</style>\n",
       "<table border=\"1\" class=\"dataframe\">\n",
       "  <thead>\n",
       "    <tr style=\"text-align: right;\">\n",
       "      <th></th>\n",
       "      <th>Glucosa</th>\n",
       "      <th>Insulina</th>\n",
       "      <th>Glucosa Prevista de Regresión lineal</th>\n",
       "      <th>Decision Tree Predicted Glucosa</th>\n",
       "    </tr>\n",
       "  </thead>\n",
       "  <tbody>\n",
       "    <tr>\n",
       "      <th>0</th>\n",
       "      <td>92</td>\n",
       "      <td>126</td>\n",
       "      <td>48.981144</td>\n",
       "      <td>43.000000</td>\n",
       "    </tr>\n",
       "    <tr>\n",
       "      <th>1</th>\n",
       "      <td>132</td>\n",
       "      <td>0</td>\n",
       "      <td>95.028190</td>\n",
       "      <td>0.000000</td>\n",
       "    </tr>\n",
       "    <tr>\n",
       "      <th>2</th>\n",
       "      <td>106</td>\n",
       "      <td>0</td>\n",
       "      <td>65.097610</td>\n",
       "      <td>62.222222</td>\n",
       "    </tr>\n",
       "    <tr>\n",
       "      <th>3</th>\n",
       "      <td>99</td>\n",
       "      <td>0</td>\n",
       "      <td>57.039377</td>\n",
       "      <td>51.125000</td>\n",
       "    </tr>\n",
       "    <tr>\n",
       "      <th>4</th>\n",
       "      <td>96</td>\n",
       "      <td>49</td>\n",
       "      <td>53.585849</td>\n",
       "      <td>22.333333</td>\n",
       "    </tr>\n",
       "    <tr>\n",
       "      <th>...</th>\n",
       "      <td>...</td>\n",
       "      <td>...</td>\n",
       "      <td>...</td>\n",
       "      <td>...</td>\n",
       "    </tr>\n",
       "    <tr>\n",
       "      <th>187</th>\n",
       "      <td>197</td>\n",
       "      <td>744</td>\n",
       "      <td>169.854638</td>\n",
       "      <td>181.000000</td>\n",
       "    </tr>\n",
       "    <tr>\n",
       "      <th>188</th>\n",
       "      <td>168</td>\n",
       "      <td>0</td>\n",
       "      <td>136.470530</td>\n",
       "      <td>160.500000</td>\n",
       "    </tr>\n",
       "    <tr>\n",
       "      <th>189</th>\n",
       "      <td>132</td>\n",
       "      <td>0</td>\n",
       "      <td>95.028190</td>\n",
       "      <td>0.000000</td>\n",
       "    </tr>\n",
       "    <tr>\n",
       "      <th>190</th>\n",
       "      <td>179</td>\n",
       "      <td>0</td>\n",
       "      <td>149.133468</td>\n",
       "      <td>72.250000</td>\n",
       "    </tr>\n",
       "    <tr>\n",
       "      <th>191</th>\n",
       "      <td>162</td>\n",
       "      <td>0</td>\n",
       "      <td>129.563473</td>\n",
       "      <td>0.000000</td>\n",
       "    </tr>\n",
       "  </tbody>\n",
       "</table>\n",
       "<p>192 rows × 4 columns</p>\n",
       "</div>"
      ],
      "text/plain": [
       "     Glucosa  Insulina  Glucosa Prevista de Regresión lineal  \\\n",
       "0         92       126                             48.981144   \n",
       "1        132         0                             95.028190   \n",
       "2        106         0                             65.097610   \n",
       "3         99         0                             57.039377   \n",
       "4         96        49                             53.585849   \n",
       "..       ...       ...                                   ...   \n",
       "187      197       744                            169.854638   \n",
       "188      168         0                            136.470530   \n",
       "189      132         0                             95.028190   \n",
       "190      179         0                            149.133468   \n",
       "191      162         0                            129.563473   \n",
       "\n",
       "     Decision Tree Predicted Glucosa  \n",
       "0                          43.000000  \n",
       "1                           0.000000  \n",
       "2                          62.222222  \n",
       "3                          51.125000  \n",
       "4                          22.333333  \n",
       "..                               ...  \n",
       "187                       181.000000  \n",
       "188                       160.500000  \n",
       "189                         0.000000  \n",
       "190                        72.250000  \n",
       "191                         0.000000  \n",
       "\n",
       "[192 rows x 4 columns]"
      ]
     },
     "execution_count": 11,
     "metadata": {},
     "output_type": "execute_result"
    }
   ],
   "source": [
    "#Separando la información en grupos de entrenamiento y otro de prueba para el MSE, error cuadrático medio\n",
    "X_train, X_test, y_train, y_test = train_test_split(Glucosa.to_numpy(),Insulina.to_numpy(), test_size=0.25, random_state=5)\n",
    "\n",
    "#linear regression model\n",
    "linear_reg = LinearRegression()\n",
    "#decision tree model\n",
    "decision_tree = tree.DecisionTreeRegressor()\n",
    "\n",
    "#fit/predict data\n",
    "linear_reg.fit(X_train.reshape(-1, 1), y_train)\n",
    "decision_tree = decision_tree.fit(X_train.reshape(-1, 1),y_train)\n",
    "linreg_glucose = linear_reg.predict(X_test.reshape(-1, 1))\n",
    "d_tree_glucose = decision_tree.predict(X_test.reshape(-1, 1))\n",
    "df_predict = pd.DataFrame({'Glucosa':X_test,'Insulina':y_test,'Glucosa Prevista de Regresión lineal':linreg_glucose, 'Decision Tree Predicted Glucosa':d_tree_glucose})\n",
    "df_predict\n",
    "     "
   ]
  },
  {
   "cell_type": "code",
   "execution_count": 12,
   "metadata": {},
   "outputs": [
    {
     "data": {
      "text/html": [
       "<div>\n",
       "<style scoped>\n",
       "    .dataframe tbody tr th:only-of-type {\n",
       "        vertical-align: middle;\n",
       "    }\n",
       "\n",
       "    .dataframe tbody tr th {\n",
       "        vertical-align: top;\n",
       "    }\n",
       "\n",
       "    .dataframe thead th {\n",
       "        text-align: right;\n",
       "    }\n",
       "</style>\n",
       "<table border=\"1\" class=\"dataframe\">\n",
       "  <thead>\n",
       "    <tr style=\"text-align: right;\">\n",
       "      <th></th>\n",
       "      <th>Glucosa</th>\n",
       "      <th>Insulina</th>\n",
       "      <th>Glucosa Prevista de Regresión lineal</th>\n",
       "      <th>Decision Tree Predicted Glucosa</th>\n",
       "      <th>Forecast Error Lin Reg</th>\n",
       "      <th>Forecast Error Decision Tree</th>\n",
       "    </tr>\n",
       "  </thead>\n",
       "  <tbody>\n",
       "    <tr>\n",
       "      <th>0</th>\n",
       "      <td>92</td>\n",
       "      <td>126</td>\n",
       "      <td>48.981144</td>\n",
       "      <td>43.000000</td>\n",
       "      <td>43.018856</td>\n",
       "      <td>49.000000</td>\n",
       "    </tr>\n",
       "    <tr>\n",
       "      <th>1</th>\n",
       "      <td>132</td>\n",
       "      <td>0</td>\n",
       "      <td>95.028190</td>\n",
       "      <td>0.000000</td>\n",
       "      <td>36.971810</td>\n",
       "      <td>132.000000</td>\n",
       "    </tr>\n",
       "    <tr>\n",
       "      <th>2</th>\n",
       "      <td>106</td>\n",
       "      <td>0</td>\n",
       "      <td>65.097610</td>\n",
       "      <td>62.222222</td>\n",
       "      <td>40.902390</td>\n",
       "      <td>43.777778</td>\n",
       "    </tr>\n",
       "    <tr>\n",
       "      <th>3</th>\n",
       "      <td>99</td>\n",
       "      <td>0</td>\n",
       "      <td>57.039377</td>\n",
       "      <td>51.125000</td>\n",
       "      <td>41.960623</td>\n",
       "      <td>47.875000</td>\n",
       "    </tr>\n",
       "    <tr>\n",
       "      <th>4</th>\n",
       "      <td>96</td>\n",
       "      <td>49</td>\n",
       "      <td>53.585849</td>\n",
       "      <td>22.333333</td>\n",
       "      <td>42.414151</td>\n",
       "      <td>73.666667</td>\n",
       "    </tr>\n",
       "    <tr>\n",
       "      <th>...</th>\n",
       "      <td>...</td>\n",
       "      <td>...</td>\n",
       "      <td>...</td>\n",
       "      <td>...</td>\n",
       "      <td>...</td>\n",
       "      <td>...</td>\n",
       "    </tr>\n",
       "    <tr>\n",
       "      <th>187</th>\n",
       "      <td>197</td>\n",
       "      <td>744</td>\n",
       "      <td>169.854638</td>\n",
       "      <td>181.000000</td>\n",
       "      <td>27.145362</td>\n",
       "      <td>16.000000</td>\n",
       "    </tr>\n",
       "    <tr>\n",
       "      <th>188</th>\n",
       "      <td>168</td>\n",
       "      <td>0</td>\n",
       "      <td>136.470530</td>\n",
       "      <td>160.500000</td>\n",
       "      <td>31.529470</td>\n",
       "      <td>7.500000</td>\n",
       "    </tr>\n",
       "    <tr>\n",
       "      <th>189</th>\n",
       "      <td>132</td>\n",
       "      <td>0</td>\n",
       "      <td>95.028190</td>\n",
       "      <td>0.000000</td>\n",
       "      <td>36.971810</td>\n",
       "      <td>132.000000</td>\n",
       "    </tr>\n",
       "    <tr>\n",
       "      <th>190</th>\n",
       "      <td>179</td>\n",
       "      <td>0</td>\n",
       "      <td>149.133468</td>\n",
       "      <td>72.250000</td>\n",
       "      <td>29.866532</td>\n",
       "      <td>106.750000</td>\n",
       "    </tr>\n",
       "    <tr>\n",
       "      <th>191</th>\n",
       "      <td>162</td>\n",
       "      <td>0</td>\n",
       "      <td>129.563473</td>\n",
       "      <td>0.000000</td>\n",
       "      <td>32.436527</td>\n",
       "      <td>162.000000</td>\n",
       "    </tr>\n",
       "  </tbody>\n",
       "</table>\n",
       "<p>192 rows × 6 columns</p>\n",
       "</div>"
      ],
      "text/plain": [
       "     Glucosa  Insulina  Glucosa Prevista de Regresión lineal  \\\n",
       "0         92       126                             48.981144   \n",
       "1        132         0                             95.028190   \n",
       "2        106         0                             65.097610   \n",
       "3         99         0                             57.039377   \n",
       "4         96        49                             53.585849   \n",
       "..       ...       ...                                   ...   \n",
       "187      197       744                            169.854638   \n",
       "188      168         0                            136.470530   \n",
       "189      132         0                             95.028190   \n",
       "190      179         0                            149.133468   \n",
       "191      162         0                            129.563473   \n",
       "\n",
       "     Decision Tree Predicted Glucosa  Forecast Error Lin Reg  \\\n",
       "0                          43.000000               43.018856   \n",
       "1                           0.000000               36.971810   \n",
       "2                          62.222222               40.902390   \n",
       "3                          51.125000               41.960623   \n",
       "4                          22.333333               42.414151   \n",
       "..                               ...                     ...   \n",
       "187                       181.000000               27.145362   \n",
       "188                       160.500000               31.529470   \n",
       "189                         0.000000               36.971810   \n",
       "190                        72.250000               29.866532   \n",
       "191                         0.000000               32.436527   \n",
       "\n",
       "     Forecast Error Decision Tree  \n",
       "0                       49.000000  \n",
       "1                      132.000000  \n",
       "2                       43.777778  \n",
       "3                       47.875000  \n",
       "4                       73.666667  \n",
       "..                            ...  \n",
       "187                     16.000000  \n",
       "188                      7.500000  \n",
       "189                    132.000000  \n",
       "190                    106.750000  \n",
       "191                    162.000000  \n",
       "\n",
       "[192 rows x 6 columns]"
      ]
     },
     "execution_count": 12,
     "metadata": {},
     "output_type": "execute_result"
    }
   ],
   "source": [
    "df_predict['Forecast Error Lin Reg'] = df_predict['Glucosa'] - df_predict['Glucosa Prevista de Regresión lineal']\n",
    "df_predict['Forecast Error Decision Tree'] = df_predict['Glucosa'] - df_predict['Decision Tree Predicted Glucosa']\n",
    "df_predict\n",
    "     "
   ]
  },
  {
   "cell_type": "code",
   "execution_count": 13,
   "metadata": {},
   "outputs": [
    {
     "data": {
      "text/plain": [
       "array([[1.        , 0.33135711],\n",
       "       [0.33135711, 1.        ]])"
      ]
     },
     "execution_count": 13,
     "metadata": {},
     "output_type": "execute_result"
    }
   ],
   "source": [
    "# creando el cálculo para el coeficiente de correlación para las variables glucosa e insulina\n",
    "np.corrcoef(Glucosa,Insulina)"
   ]
  },
  {
   "cell_type": "code",
   "execution_count": 14,
   "metadata": {},
   "outputs": [
    {
     "data": {
      "text/plain": [
       "(0.33135710992020906, 3.882623944270335e-21)"
      ]
     },
     "execution_count": 14,
     "metadata": {},
     "output_type": "execute_result"
    }
   ],
   "source": [
    "# correlación de pearson\n",
    "from scipy.stats import pearsonr\n",
    "pearsonr(Glucosa,Insulina)\n"
   ]
  },
  {
   "cell_type": "code",
   "execution_count": 15,
   "metadata": {},
   "outputs": [
    {
     "data": {
      "text/plain": [
       "0.10979753429467351"
      ]
     },
     "execution_count": 15,
     "metadata": {},
     "output_type": "execute_result"
    }
   ],
   "source": [
    "# coeficiente de determinación nos indica cuánto de la variación total en Y se debe a la variación en X, el coeficiente de determinación\n",
    "# también se puede tomar con el coeficiente de correlación de pearson al cuadrado\n",
    "coe_det=0.33135710992020906**2\n",
    "coe_det"
   ]
  },
  {
   "cell_type": "code",
   "execution_count": 16,
   "metadata": {},
   "outputs": [
    {
     "data": {
      "image/png": "[encoded data removed]",
      "text/plain": [
       "<Figure size 432x288 with 1 Axes>"
      ]
     },
     "metadata": {
      "needs_background": "light"
     },
     "output_type": "display_data"
    }
   ],
   "source": [
    "plt.scatter(Glucosa,Insulina)\n",
    "plt.show()"
   ]
  },
  {
   "cell_type": "markdown",
   "metadata": {},
   "source": [
    "### Conclusión de la parte de regresión lineal: ###\n",
    "tenemos que hay una relación entre las variables insulina y glucosa, y esta se interpreta como una relación directamente proporcional en la que a mayor insulina en sangre mayor glucosa en sangre, esta relación se podría abarcar hasta el punto de si es o no diabético y si se relaciona con ese resultado. Por otra parte, tenemos que el coeficiente de correlación es de 0.33, significando que no es cercano a uno, sino más bien cercano a 0, por lo tanto podríamos decir que la relación no es especialmente significativa para la investigación en curso."
   ]
  },
  {
   "cell_type": "code",
   "execution_count": 17,
   "metadata": {},
   "outputs": [
    {
     "name": "stdout",
     "output_type": "stream",
     "text": [
      "0.009666834703521698 0.02762418861171164\n"
     ]
    }
   ],
   "source": [
    "# regresión logística\n",
    "# el train split se hizo en un punto anterior en la ejecución a esta parte del proyecto\n",
    "\n",
    "b1, b0 = np.polyfit(diabetes[\"Age\"],diabetes[\"Outcome\"],1)\n",
    "print(b1,b0)"
   ]
  },
  {
   "cell_type": "code",
   "execution_count": 18,
   "metadata": {},
   "outputs": [
    {
     "data": {
      "text/plain": [
       "<function matplotlib.pyplot.show(close=None, block=None)>"
      ]
     },
     "execution_count": 18,
     "metadata": {},
     "output_type": "execute_result"
    },
    {
     "data": {
      "image/png": "[encoded data removed]",
      "text/plain": [
       "<Figure size 432x288 with 1 Axes>"
      ]
     },
     "metadata": {
      "needs_background": "light"
     },
     "output_type": "display_data"
    }
   ],
   "source": [
    "plt.scatter(diabetes[\"Age\"],diabetes[\"Outcome\"],c=\"orange\")\n",
    "plt.plot(diabetes[\"Age\"], b0+b1*diabetes[\"Outcome\"])\n",
    "plt.title(\"Gráfica de dispersión Age vs Outcome\")\n",
    "plt.xlabel(\"Age\")\n",
    "plt.ylabel(\"Outcome\")\n",
    "plt.grid()\n",
    "plt.show"
   ]
  },
  {
   "cell_type": "code",
   "execution_count": 19,
   "metadata": {},
   "outputs": [
    {
     "name": "stdout",
     "output_type": "stream",
     "text": [
      "intercepto (b): [-2.04744865]\n",
      "pendiente (w): [[0.04202466]]\n"
     ]
    }
   ],
   "source": [
    "from sklearn.linear_model import LogisticRegression\n",
    "\n",
    "# definiendo input y output\n",
    "X_train = np.array(diabetes['Age']).reshape((-1, 1))\n",
    "Y_train = np.array(diabetes['Outcome'])\n",
    "\n",
    "# creando modelo\n",
    "model = LogisticRegression()\n",
    "model.fit(X_train, Y_train)\n",
    "\n",
    "# imprimiendo parametros usando el atributo coef_ e intercept_\n",
    "print(f\"intercepto (b): {model.intercept_}\")\n",
    "print(f\"pendiente (w): {model.coef_}\")\n",
    "\n",
    "# considero que la diferencia entre este coeficiente y el de regresión lineal radica en que el número de ejecuciones de procesos es mucho menor al usar este código que \n",
    "# haciendo código para cada uno de los procesos necesarios para la regresión logística, por lo tanto es un método más efectivo y confiable"
   ]
  },
  {
   "cell_type": "code",
   "execution_count": 20,
   "metadata": {},
   "outputs": [
    {
     "data": {
      "image/png": "[encoded data removed]",
      "text/plain": [
       "<Figure size 432x288 with 1 Axes>"
      ]
     },
     "metadata": {
      "needs_background": "light"
     },
     "output_type": "display_data"
    }
   ],
   "source": [
    "w = 0.04202466\n",
    "b = -2.04744865\n",
    "# puntos de la recta\n",
    "x = np.linspace(0,diabetes['Age'].max(),100)\n",
    "y = 1/(1+np.exp(-(w*x+b)))\n",
    "\n",
    "# grafica de la recta\n",
    "diabetes.plot.scatter(x='Age',y='Outcome')\n",
    "plt.plot(x, y, '-r')\n",
    "plt.ylim(0,diabetes['Outcome'].max()*1.1)\n",
    "# plt.grid()\n",
    "plt.grid()\n",
    "plt.show()"
   ]
  },
  {
   "cell_type": "code",
   "execution_count": 49,
   "metadata": {},
   "outputs": [
    {
     "data": {
      "text/plain": [
       "<sklearn.metrics._plot.confusion_matrix.ConfusionMatrixDisplay at 0x1b9bc415ca0>"
      ]
     },
     "execution_count": 49,
     "metadata": {},
     "output_type": "execute_result"
    },
    {
     "data": {
      "image/png": "[encoded data removed]",
      "text/plain": [
       "<Figure size 432x288 with 2 Axes>"
      ]
     },
     "metadata": {
      "needs_background": "light"
     },
     "output_type": "display_data"
    }
   ],
   "source": [
    "\n",
    "\n",
    "import sklearn.metrics\n",
    "mc=sklearn.metrics.confusion_matrix(diabetes.Outcome,diabetes.Outcome)\n",
    "vis = sklearn.metrics.ConfusionMatrixDisplay(mc)\n",
    "vis.plot()"
   ]
  }
 ],
 "metadata": {
  "kernelspec": {
   "display_name": "base",
   "language": "python",
   "name": "python3"
  },
  "language_info": {
   "codemirror_mode": {
    "name": "ipython",
    "version": 3
   },
   "file_extension": ".py",
   "mimetype": "text/x-python",
   "name": "python",
   "nbconvert_exporter": "python",
   "pygments_lexer": "ipython3",
   "version": "3.9.12"
  }
 },
 "nbformat": 4,
 "nbformat_minor": 2
}
