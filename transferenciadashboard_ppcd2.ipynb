{
 "cells": [
  {
   "cell_type": "markdown",
   "metadata": {},
   "source": [
    "### Creando un Dashboar para presentación de resultados ###"
   ]
  },
  {
   "cell_type": "code",
   "execution_count": 3,
   "metadata": {},
   "outputs": [
    {
     "name": "stdout",
     "output_type": "stream",
     "text": [
      "   Pregnancies  Glucose  BloodPressure  SkinThickness  Insulin   BMI  \\\n",
      "0            6      148             72             35        0  33.6   \n",
      "1            1       85             66             29        0  26.6   \n",
      "2            8      183             64              0        0  23.3   \n",
      "3            1       89             66             23       94  28.1   \n",
      "4            0      137             40             35      168  43.1   \n",
      "\n",
      "   DiabetesPedigreeFunction  Age  Outcome  \n",
      "0                     0.627   50        1  \n",
      "1                     0.351   31        0  \n",
      "2                     0.672   32        1  \n",
      "3                     0.167   21        0  \n",
      "4                     2.288   33        1  \n"
     ]
    }
   ],
   "source": [
    "import dash\n",
    "import dash_core_components as dcc\n",
    "import dash_html_components as html\n",
    "from dash.dependencies import Input, Output\n",
    "import plotly.graph_objects as go\n",
    "import pandas as pd\n",
    "import dash_table\n",
    "# Cargar los datos en un DataFrame de Pandas\n",
    "df= pd.read_csv(filepath_or_buffer=\"D:/Bases_de_datos/input/diabetes.csv\")\n",
    "\n",
    "# Ejemplo de cómo inspeccionar los primeros registros del DataFrame\n",
    "print(df.head())"
   ]
  },
  {
   "cell_type": "code",
   "execution_count": 4,
   "metadata": {},
   "outputs": [
    {
     "data": {
      "text/html": [
       "\n",
       "        <iframe\n",
       "            width=\"100%\"\n",
       "            height=\"650\"\n",
       "            src=\"http://127.0.0.1:8050/\"\n",
       "            frameborder=\"0\"\n",
       "            allowfullscreen\n",
       "            \n",
       "        ></iframe>\n",
       "        "
      ],
      "text/plain": [
       "<IPython.lib.display.IFrame at 0x297c30eba00>"
      ]
     },
     "metadata": {},
     "output_type": "display_data"
    }
   ],
   "source": [
    "## Visión general de los datos con Dash\n",
    "\n",
    "app = dash.Dash(__name__)\n",
    "\n",
    "app.layout = html.Div([\n",
    "    dash_table.DataTable(\n",
    "        id='table',\n",
    "        columns=[{\"name\": i, \"id\": i} for i in df.columns],\n",
    "        data=df.to_dict('records'),\n",
    "        editable=True,\n",
    "        filter_action=\"native\",\n",
    "        sort_action=\"native\",\n",
    "        sort_mode=\"multi\",\n",
    "        column_selectable=\"single\",\n",
    "        row_selectable=\"multi\",\n",
    "        page_action=\"native\",\n",
    "        page_current=0,\n",
    "        page_size=10,\n",
    "    ),\n",
    "    html.Div(id='table-container')\n",
    "])\n",
    "\n",
    "@app.callback(\n",
    "    Output('table-container', 'children'),\n",
    "    [Input('table', 'data')]\n",
    ")\n",
    "def display_table(data):\n",
    "    return html.Div([\n",
    "        html.P('Datos de la tabla:'),\n",
    "        html.Pre(str(data))\n",
    "    ])\n",
    "\n",
    "if __name__ == '__main__':\n",
    "    app.run_server(debug=True)\n"
   ]
  },
  {
   "cell_type": "code",
   "execution_count": 8,
   "metadata": {},
   "outputs": [
    {
     "data": {
      "text/html": [
       "\n",
       "        <iframe\n",
       "            width=\"100%\"\n",
       "            height=\"650\"\n",
       "            src=\"http://127.0.0.1:8050/\"\n",
       "            frameborder=\"0\"\n",
       "            allowfullscreen\n",
       "            \n",
       "        ></iframe>\n",
       "        "
      ],
      "text/plain": [
       "<IPython.lib.display.IFrame at 0x297c5e376a0>"
      ]
     },
     "metadata": {},
     "output_type": "display_data"
    }
   ],
   "source": [
    "# Asegúrate de tener todas las importaciones necesarias al inicio de tu script\n",
    "import dash\n",
    "from dash import dcc, html, Input, Output\n",
    "import plotly.express as px\n",
    "import pandas as pd\n",
    "from sklearn.linear_model import LinearRegression\n",
    "import numpy as np\n",
    "\n",
    "# Preparar el modelo de regresión lineal basado en 'Glucose' y 'Outcome'\n",
    "X = df[['Glucose']].values.reshape(-1, 1)\n",
    "y = df['Outcome'].values\n",
    "model = LinearRegression()\n",
    "model.fit(X, y)\n",
    "\n",
    "app = dash.Dash(__name__)\n",
    "\n",
    "app.layout = html.Div([\n",
    "    html.H1('Análisis Interactivo de Diabetes'),\n",
    "    dcc.Dropdown(\n",
    "        id='graph-selector',\n",
    "        options=[\n",
    "            {'label': 'Histograma de Glucosa', 'value': 'histogram-glucose'},\n",
    "            {'label': 'Conteo de Resultados', 'value': 'bar-outcome'},\n",
    "            {'label': 'Glucosa vs Insulina', 'value': 'scatter-glucose-insulin'},\n",
    "            {'label': 'BMI vs Edad', 'value': 'scatter-bmi-age'},\n",
    "            {'label': 'Número de Embarazos', 'value': 'pie-pregnancies'},\n",
    "            {'label': 'Insulina por Resultado', 'value': 'box-insulin'},\n",
    "            {'label': 'Regresión Lineal: Outcome vs Glucose', 'value': 'regression-glucose-outcome'}\n",
    "        ],\n",
    "        value='histogram-glucose'\n",
    "    ),\n",
    "    dcc.Graph(id='selected-graph'),\n",
    "    html.Div(id='graph-narrative', style={'margin': '20px 0'}),\n",
    "    html.Label('Filtrar Glucosa:'),\n",
    "    dcc.RangeSlider(\n",
    "        id='glucose-filter',\n",
    "        min=df['Glucose'].min(),\n",
    "        max=df['Glucose'].max(),\n",
    "        value=[df['Glucose'].min(), df['Glucose'].max()],\n",
    "        marks={int(i): str(int(i)) for i in np.linspace(df['Glucose'].min(), df['Glucose'].max(), 10)},\n",
    "        step=1\n",
    "    )\n",
    "])\n",
    "\n",
    "@app.callback(\n",
    "    [Output('selected-graph', 'figure'),\n",
    "     Output('graph-narrative', 'children')],\n",
    "    [Input('graph-selector', 'value'),\n",
    "     Input('glucose-filter', 'value')]\n",
    ")\n",
    "def update_graph_and_narrative(selected_graph, glucose_range):\n",
    "    filtered_df = df[(df['Glucose'] >= glucose_range[0]) & (df['Glucose'] <= glucose_range[1])]\n",
    "    \n",
    "    # Generar la visualización basada en la selección del usuario\n",
    "    if selected_graph == 'histogram-glucose':\n",
    "        figure = px.histogram(filtered_df, x='Glucose', nbins=50, title='Distribución de Niveles de Glucosa')\n",
    "        narrative = 'Este histograma muestra la distribución de los niveles de glucosa. Es importante para el diagnóstico de diabetes.'\n",
    "    elif selected_graph == 'bar-outcome':\n",
    "        figure = px.bar(filtered_df['Outcome'].value_counts(), title='Conteo de Resultados de Diabetes')\n",
    "        narrative = 'Este gráfico de barras muestra el número de casos positivos y negativos. Ayuda a entender la prevalencia de la enfermedad.'\n",
    "    elif selected_graph == 'scatter-glucose-insulin':\n",
    "        figure = px.scatter(filtered_df, x='Glucose', y='Insulin', color='Outcome', title='Glucosa vs Insulina por Resultado')\n",
    "        narrative = 'Relación entre glucosa e insulina, diferenciada por resultado. Puede indicar cómo la insulina afecta la glucosa en pacientes.'\n",
    "    elif selected_graph == 'scatter-bmi-age':\n",
    "        figure = px.scatter(filtered_df, x='BMI', y='Age', color='Outcome', title='BMI vs. Edad por Resultado')\n",
    "        narrative = 'Este gráfico muestra cómo el BMI y la edad se relacionan con los resultados de diabetes.'\n",
    "    elif selected_graph == 'pie-pregnancies':\n",
    "        figure = px.pie(filtered_df, names='Pregnancies', title='Distribución de Número de Embarazos')\n",
    "        narrative = 'Distribución del número de embarazos entre las pacientes, un factor de riesgo conocido para diabetes tipo 2.'\n",
    "    elif selected_graph == 'box-insulin':\n",
    "        figure = px.box(filtered_df, x='Outcome', y='Insulin', color='Outcome', title='Niveles de Insulina por Resultado de Diabetes')\n",
    "        narrative = 'Comparación de niveles de insulina entre pacientes, segmentado por resultado. La insulina es crucial en el manejo de la diabetes.'\n",
    "    elif selected_graph == 'regression-glucose-outcome':\n",
    "        x_range = np.linspace(glucose_range[0], glucose_range[1], 100)\n",
    "        y_pred = model.predict(x_range.reshape(-1, 1))\n",
    "        figure = px.scatter(filtered_df, x='Glucose', y='Outcome', opacity=0.65, title='Regresión Lineal: Outcome vs. Glucose')\n",
    "        figure.add_traces(px.line(x=x_range, y=y_pred, labels={'x': 'Glucose', 'y': 'Predicted Outcome'}).data)\n",
    "        narrative = 'Modelo de regresión lineal que predice el resultado de la diabetes basado en niveles de glucosa.'\n",
    "    else:\n",
    "        figure = {}\n",
    "        narrative = 'Selecciona un gráfico para visualizar.'\n",
    "    \n",
    "    return figure, narrative\n",
    "\n",
    "if __name__ == '__main__':\n",
    "    app.run_server(debug=True)\n"
   ]
  }
 ],
 "metadata": {
  "kernelspec": {
   "display_name": "base",
   "language": "python",
   "name": "python3"
  },
  "language_info": {
   "codemirror_mode": {
    "name": "ipython",
    "version": 3
   },
   "file_extension": ".py",
   "mimetype": "text/x-python",
   "name": "python",
   "nbconvert_exporter": "python",
   "pygments_lexer": "ipython3",
   "version": "3.9.12"
  }
 },
 "nbformat": 4,
 "nbformat_minor": 2
}
